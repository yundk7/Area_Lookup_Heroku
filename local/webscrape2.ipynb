{
 "cells": [
  {
   "cell_type": "code",
   "execution_count": 1,
   "metadata": {},
   "outputs": [],
   "source": [
    "import requests\n",
    "import json\n",
    "import math\n",
    "from bs4 import BeautifulSoup as bs\n",
    "import re\n",
    "import numpy as np\n",
    "import pandas as pd"
   ]
  },
  {
   "cell_type": "code",
   "execution_count": 2,
   "metadata": {},
   "outputs": [],
   "source": [
    "from flask_sqlalchemy import *#SQLAlchemy\n",
    "from sqlalchemy import create_engine\n",
    "import sqlite3\n",
    "\n",
    "# # #Connecting to sqlite\n",
    "# conn = sqlite3.connect('zip_data.sqlite')\n",
    "\n",
    "# #Creating a cursor object using the cursor() method\n",
    "# cursor = conn.cursor()\n",
    "\n",
    "# #Doping EMPLOYEE table if already exists\n",
    "# cursor.execute(\"DROP TABLE area\")\n",
    "# print(\"Table dropped... \")\n",
    "\n",
    "# #Commit your changes in the database\n",
    "# conn.commit()\n",
    "\n",
    "# #Closing the connection\n",
    "# conn.close()"
   ]
  },
  {
   "cell_type": "code",
   "execution_count": 37,
   "metadata": {},
   "outputs": [],
   "source": [
    "con = create_engine(\"sqlite:///zip_data2.sqlite\")"
   ]
  },
  {
   "cell_type": "code",
   "execution_count": 38,
   "metadata": {},
   "outputs": [],
   "source": [
    "df = pd.read_sql(\"area\",con)"
   ]
  },
  {
   "cell_type": "code",
   "execution_count": 28,
   "metadata": {},
   "outputs": [],
   "source": [
    "# zips = []\n",
    "# for n in range(1001,99950+1):\n",
    "#     n = str(n).zfill(5)\n",
    "#     zips.append(n)\n",
    "# print(len(zips))\n"
   ]
  },
  {
   "cell_type": "code",
   "execution_count": 34,
   "metadata": {},
   "outputs": [],
   "source": [
    "con0 = create_engine(\"sqlite:///us_db.sqlite\")\n",
    "ref = pd.read_sql(\"city\",con0)\n",
    "ref = ref[ref[\"zip\"].astype(int)>=1000]\n",
    "ref = list(ref[\"zip\"])\n",
    "ref = pd.DataFrame({\"zip\":ref})\n",
    "\n",
    "#to get zip codes already in database\n",
    "exist = pd.read_sql(\"area\",con)\n",
    "exist = list(exist[\"zip\"])\n",
    "#zips already in database will have exist value of 1, if not NaN\n",
    "exist = pd.DataFrame({\"zip\":exist,\"exist\":1})\n",
    "\n",
    "#merge on reference dataframe\n",
    "zips_srch = pd.merge(ref,exist,on=\"zip\",how=\"left\")\n",
    "#excluding rows where exist = 1\n",
    "zips_srch = zips_srch[zips_srch[\"exist\"].isnull()]\n",
    "zips = list(zips_srch[\"zip\"])"
   ]
  },
  {
   "cell_type": "code",
   "execution_count": 10,
   "metadata": {},
   "outputs": [
    {
     "name": "stdout",
     "output_type": "stream",
     "text": [
      "25412\n"
     ]
    }
   ],
   "source": [
    "# try:\n",
    "#     area = pd.read_sql(\"area\",con)\n",
    "#     zip_exist = list(area[\"zip\"])\n",
    "\n",
    "#     # excluding zipcodes that are already in the database\n",
    "#     # zips_o = [x for x in zips if x not in zip_exist]\n",
    "#     zips_df = pd.DataFrame({\"zips\":zips})\n",
    "#     exist_df = pd.DataFrame({\"zips\":zip_exist,\"exist\":1})\n",
    "#     zips_df = pd.merge(zips_df,exist_df, how=\"left\",on = \"zips\")\n",
    "#     # exist_df\n",
    "#     zips = list(zips_df[zips_df[\"exist\"].isnull()][\"zips\"])\n",
    "#     print(len(zips))\n",
    "# except OperationalError:\n",
    "#     print(\"none\")"
   ]
  },
  {
   "cell_type": "code",
   "execution_count": 11,
   "metadata": {},
   "outputs": [],
   "source": [
    "for z in zips:\n",
    "    url = f\"http://www.mapszipcode.com/state/city/{z}/\"\n",
    "    response = requests.get(url)\n",
    "    soup = bs(response.text, 'html.parser')\n",
    "    # divs = soup.find_all(\"div\", {\"class\": \"dat\"})\n",
    "    divs = soup.find_all(\"div\", class_=\"dat\")\n",
    "    try:\n",
    "        population = int(str(divs[0]).split(\">\")[1].split(\"<\")[0].replace(\",\",\"\"))\n",
    "    except ValueError:\n",
    "        population = np.nan\n",
    "    try:\n",
    "        density = float(str(divs[1]).split(\">\")[1].split(\"\t\")[0].replace(\",\",\"\"))\n",
    "    except ValueError:\n",
    "        density = np.nan\n",
    "    try:\n",
    "        med_home_value = float(str(divs[2]).split(\">\")[1].split(\"<\")[0].replace(\",\",\"\").replace(\"$\",\"\"))\n",
    "    except ValueError:\n",
    "        med_home_value = np.nan\n",
    "    try:\n",
    "        med_rent = float(str(divs[3]).split(\">\")[1].split(\"<\")[0].replace(\",\",\"\").replace(\"$\",\"\"))\n",
    "    except ValueError:\n",
    "        med_rent = np.nan\n",
    "    # area = population/density\n",
    "    # radius = math.sqrt(area)/2*1.6\n",
    "    apnd = pd.DataFrame({\"zip\":[z],\"population\":[population],\"density\":[density],\"med_home_value\":[med_home_value],\"med_rent\":[med_rent]})\n",
    "    apnd.to_sql(\"area\",con,if_exists=\"append\",index=False)"
   ]
  },
  {
   "cell_type": "code",
   "execution_count": 39,
   "metadata": {},
   "outputs": [],
   "source": [
    "df = pd.read_sql(\"area\",con)"
   ]
  },
  {
   "cell_type": "code",
   "execution_count": 41,
   "metadata": {},
   "outputs": [],
   "source": [
    "df.dropna(inplace=True)"
   ]
  },
  {
   "cell_type": "code",
   "execution_count": 43,
   "metadata": {},
   "outputs": [],
   "source": [
    "df.to_sql(\"area2\",con0,if_exists=\"replace\",index=False)"
   ]
  },
  {
   "cell_type": "code",
   "execution_count": 44,
   "metadata": {},
   "outputs": [],
   "source": [
    "df1 = pd.read_sql(\"area\",con0)"
   ]
  },
  {
   "cell_type": "code",
   "execution_count": 45,
   "metadata": {},
   "outputs": [],
   "source": [
    "df2 = pd.read_sql(\"area2\",con0)"
   ]
  },
  {
   "cell_type": "code",
   "execution_count": null,
   "metadata": {},
   "outputs": [],
   "source": []
  }
 ],
 "metadata": {
  "kernelspec": {
   "display_name": "Python 3",
   "language": "python",
   "name": "python3"
  },
  "language_info": {
   "codemirror_mode": {
    "name": "ipython",
    "version": 3
   },
   "file_extension": ".py",
   "mimetype": "text/x-python",
   "name": "python",
   "nbconvert_exporter": "python",
   "pygments_lexer": "ipython3",
   "version": "3.7.3"
  }
 },
 "nbformat": 4,
 "nbformat_minor": 4
}
