{
 "cells": [
  {
   "cell_type": "code",
   "execution_count": 1,
   "metadata": {},
   "outputs": [],
   "source": [
    "import pandas as pd\n",
    "import requests\n",
    "import json\n",
    "import re"
   ]
  },
  {
   "cell_type": "code",
   "execution_count": 2,
   "metadata": {},
   "outputs": [
    {
     "data": {
      "text/html": [
       "        <script type=\"text/javascript\">\n",
       "        window.PlotlyConfig = {MathJaxConfig: 'local'};\n",
       "        if (window.MathJax) {MathJax.Hub.Config({SVG: {font: \"STIX-Web\"}});}\n",
       "        if (typeof require !== 'undefined') {\n",
       "        require.undef(\"plotly\");\n",
       "        requirejs.config({\n",
       "            paths: {\n",
       "                'plotly': ['https://cdn.plot.ly/plotly-latest.min']\n",
       "            }\n",
       "        });\n",
       "        require(['plotly'], function(Plotly) {\n",
       "            window._Plotly = Plotly;\n",
       "        });\n",
       "        }\n",
       "        </script>\n",
       "        "
      ]
     },
     "metadata": {},
     "output_type": "display_data"
    }
   ],
   "source": [
    "import plotly as py\n",
    "import plotly.graph_objs as go\n",
    "import plotly.express as px\n",
    "py.offline.init_notebook_mode(connected = True)"
   ]
  },
  {
   "cell_type": "code",
   "execution_count": null,
   "metadata": {},
   "outputs": [],
   "source": []
  },
  {
   "cell_type": "code",
   "execution_count": 3,
   "metadata": {},
   "outputs": [],
   "source": [
    "commercial = pd.read_csv(\"상업업무용(매매)__실거래가_20200110101441.csv\",skiprows=15,encoding=\"euc_kr\")"
   ]
  },
  {
   "cell_type": "code",
   "execution_count": 4,
   "metadata": {},
   "outputs": [],
   "source": [
    "# commercial[\"도로명\"] = commercial[\"도로명\"].map(lambda x: (re.findall(r'(\\w+?)(\\d+)', x))[0])\n",
    "commercial[\"도로명\"] = commercial[\"도로명\"].str.replace(\"-\",\"\").str.split('(\\d+)').map(lambda x: x[0])"
   ]
  },
  {
   "cell_type": "code",
   "execution_count": 5,
   "metadata": {},
   "outputs": [],
   "source": [
    "commercial[\"면적당금액\"] = commercial[\"거래금액(만원)\"].str.replace(\",\",\"\").astype(float)/commercial[\"전용/연면적(㎡)\"].astype(float)\n",
    "commercial[\"평당금액\"] = commercial[\"면적당금액\"]*.3025\n",
    "commercial[\"주소\"] = commercial[\"시군구\"] + \" \" + commercial[\"도로명\"]\n",
    "adrs=commercial[\"주소\"].unique()"
   ]
  },
  {
   "cell_type": "code",
   "execution_count": 6,
   "metadata": {},
   "outputs": [],
   "source": [
    "commercial = commercial.pivot_table(index = [\"주소\",\"계약년월\"],values=[\"평당금액\"],aggfunc=[\"mean\",\"count\",\"std\"])"
   ]
  },
  {
   "cell_type": "code",
   "execution_count": 61,
   "metadata": {},
   "outputs": [
    {
     "data": {
      "text/plain": [
       "3431"
      ]
     },
     "execution_count": 61,
     "metadata": {},
     "output_type": "execute_result"
    }
   ],
   "source": [
    "len(adrs)"
   ]
  },
  {
   "cell_type": "code",
   "execution_count": 62,
   "metadata": {},
   "outputs": [
    {
     "name": "stdout",
     "output_type": "stream",
     "text": [
      "경기도 과천시 문원동 사기막\n",
      "경기도 김포시 양촌읍 구래리 봉수대로\n",
      "경기도 김포시 양촌읍 대포리 봉수대로\n",
      "경기도 김포시 통진읍 서암리 검암\n",
      "경기도 남양주시 별내면 청학리 청학로중앙길\n",
      "경기도 남양주시 별내면 청학리 청학로응달길\n",
      "경기도 남양주시 오남읍 양지리 양지로삭다니\n",
      "경기도 남양주시 진건읍 용정리 독정로성지\n",
      "경기도 남양주시 진접읍 금곡리 경복대로바람골길\n",
      "경기도 남양주시 진접읍 연평리 금강로유연들\n",
      "경기도 남양주시 화도읍 녹촌리 경춘보학\n",
      "경기도 남양주시 화도읍 묵현리 먹갓로서길\n",
      "경기도 남양주시 화도읍 창현리 경춘로창벌\n",
      "경기도 시흥시 미산동 구수미\n",
      "경기도 안산단원구 대부남동 한우물길\n",
      "경기도 안산상록구 사동 당골\n",
      "경기도 안산상록구 사동 네고지\n",
      "경기도 안산상록구 이동 삼태기\n",
      "경기도 안산상록구 이동 조구나리\n",
      "경기도 안성시 일죽면 능국리 노동길\n",
      "경기도 양주시 남면 신산리 개나리\n",
      "경기도 양평군 단월면 향소리 윗소정길\n",
      "경기도 양평군 양동면 매월리 광암길\n",
      "경기도 양평군 지평면 월산리 월파길\n",
      "경기도 여주시 금사면 상호리 금품\n",
      "경기도 여주시 산북면 송현리 금품\n",
      "경기도 여주시 산북면 후리 금품\n",
      "경기도 의왕시 오전동 어내들\n",
      "경기도 파주시 광탄면 마장리 소라울\n",
      "경기도 파주시 월롱면 위전리 누현\n",
      "경기도 파주시 적성면 구읍리 칠중\n",
      "경기도 평택시 안중읍 안중리 안현로서\n",
      "경기도 평택시 안중읍 현화리 안현로서\n",
      "경기도 포천시 관인면 냉정리 찬우물\n",
      "경기도 화성시 마도면 청원리 청원산단\n",
      "경기도 화성시 마도면 청원리 청원산단로\n",
      "경기도 화성시 봉담읍 덕리 덕머루\n",
      "경기도 화성시 봉담읍 상리 진등\n",
      "경기도 화성시 양감면 정문리 길목길\n",
      "경기도 화성시 우정읍 매향리 매향요골길\n",
      "경기도 화성시 우정읍 화산리 장포한말길\n",
      "경기도 화성시 정남면 관항리 만은동\n",
      "경기도 화성시 향남읍 하길리 발안양감로\n"
     ]
    }
   ],
   "source": [
    "geocodes = pd.DataFrame()\n",
    "fail = []\n",
    "n = 0\n",
    "for adr in adrs:\n",
    "        url = 'https://dapi.kakao.com/v2/local/search/keyword.json?query='+adr\n",
    "        headers = {\"Authorization\": \"KakaoAK 8809fcb48aa9900788adbd9f162c6b25\"}\n",
    "        result = json.loads(str(requests.get(url,headers=headers).text))\n",
    "        #     return result\n",
    "        try:\n",
    "            match_first = result['documents'][0]\n",
    "            apnd = pd.DataFrame()\n",
    "            apnd[\"srch\"] = [adr]\n",
    "            apnd[\"y\"] = [match_first['y']]\n",
    "            apnd[\"x\"] = [match_first['x']]\n",
    "            apnd[\"address\"] = [match_first[\"address_name\"]]\n",
    "            geocodes = geocodes.append(apnd)\n",
    "        except IndexError:\n",
    "            print(adr)\n",
    "            fail.append(adr)"
   ]
  },
  {
   "cell_type": "code",
   "execution_count": 64,
   "metadata": {},
   "outputs": [],
   "source": [
    "# geocodes.to_csv(\"geocodes_kr_dong.csv\",index=False,encoding=\"euc_kr\")\n",
    "geocodes.to_csv(\"geocodes_kr_rd(경기).csv\",index=False,encoding=\"euc_kr\")"
   ]
  },
  {
   "cell_type": "code",
   "execution_count": 7,
   "metadata": {},
   "outputs": [],
   "source": [
    "geocodes = pd.read_csv(\"geocodes_kr_rd(경기).csv\",encoding=\"euc_kr\")"
   ]
  },
  {
   "cell_type": "code",
   "execution_count": 8,
   "metadata": {},
   "outputs": [],
   "source": [
    "commercial.reset_index(inplace = True)"
   ]
  },
  {
   "cell_type": "code",
   "execution_count": 9,
   "metadata": {},
   "outputs": [],
   "source": [
    "commercial.rename(columns={\"주소\":\"srch\"},inplace = True)"
   ]
  },
  {
   "cell_type": "code",
   "execution_count": 10,
   "metadata": {},
   "outputs": [
    {
     "name": "stderr",
     "output_type": "stream",
     "text": [
      "C:\\ProgramData\\Anaconda3\\lib\\site-packages\\pandas\\core\\reshape\\merge.py:522: UserWarning:\n",
      "\n",
      "merging between different levels can give an unintended result (1 levels on the left, 2 on the right)\n",
      "\n",
      "C:\\ProgramData\\Anaconda3\\lib\\site-packages\\pandas\\core\\generic.py:3812: PerformanceWarning:\n",
      "\n",
      "dropping on a non-lexsorted multi-index without a level parameter may impact performance.\n",
      "\n"
     ]
    }
   ],
   "source": [
    "df = pd.merge(geocodes,commercial,on=\"srch\")"
   ]
  },
  {
   "cell_type": "code",
   "execution_count": 12,
   "metadata": {},
   "outputs": [],
   "source": [
    "df.columns = [\"srch\",\"y\",\"x\",\"address\",\"계약년월\",\"mean\",\"count\",\"std\"]\n",
    "df.sort_values(\"계약년월\",inplace= True)"
   ]
  },
  {
   "cell_type": "code",
   "execution_count": 13,
   "metadata": {},
   "outputs": [],
   "source": [
    "df[\"x\"] = df[\"x\"].astype(float)\n",
    "df[\"y\"] = df[\"y\"].astype(float)"
   ]
  },
  {
   "cell_type": "code",
   "execution_count": 30,
   "metadata": {},
   "outputs": [
    {
     "data": {
      "text/html": [
       "<div>\n",
       "<style scoped>\n",
       "    .dataframe tbody tr th:only-of-type {\n",
       "        vertical-align: middle;\n",
       "    }\n",
       "\n",
       "    .dataframe tbody tr th {\n",
       "        vertical-align: top;\n",
       "    }\n",
       "\n",
       "    .dataframe thead th {\n",
       "        text-align: right;\n",
       "    }\n",
       "</style>\n",
       "<table border=\"1\" class=\"dataframe\">\n",
       "  <thead>\n",
       "    <tr style=\"text-align: right;\">\n",
       "      <th></th>\n",
       "      <th>srch</th>\n",
       "      <th>y</th>\n",
       "      <th>x</th>\n",
       "      <th>address</th>\n",
       "      <th>계약년월</th>\n",
       "      <th>mean</th>\n",
       "      <th>count</th>\n",
       "      <th>std</th>\n",
       "    </tr>\n",
       "  </thead>\n",
       "  <tbody>\n",
       "    <tr>\n",
       "      <th>0</th>\n",
       "      <td>경기도 가평군 가평읍 금대리</td>\n",
       "      <td>37.770261</td>\n",
       "      <td>127.517540</td>\n",
       "      <td>경기 가평군 가평읍 금대리</td>\n",
       "      <td>201905</td>\n",
       "      <td>22.482099</td>\n",
       "      <td>1</td>\n",
       "      <td>NaN</td>\n",
       "    </tr>\n",
       "    <tr>\n",
       "      <th>1</th>\n",
       "      <td>경기도 가평군 가평읍 금대리</td>\n",
       "      <td>37.770261</td>\n",
       "      <td>127.517540</td>\n",
       "      <td>경기 가평군 가평읍 금대리</td>\n",
       "      <td>201906</td>\n",
       "      <td>33.031609</td>\n",
       "      <td>2</td>\n",
       "      <td>9.014934</td>\n",
       "    </tr>\n",
       "    <tr>\n",
       "      <th>2</th>\n",
       "      <td>경기도 가평군 가평읍 금대리</td>\n",
       "      <td>37.770261</td>\n",
       "      <td>127.517540</td>\n",
       "      <td>경기 가평군 가평읍 금대리</td>\n",
       "      <td>201911</td>\n",
       "      <td>30.207052</td>\n",
       "      <td>2</td>\n",
       "      <td>10.185328</td>\n",
       "    </tr>\n",
       "    <tr>\n",
       "      <th>3</th>\n",
       "      <td>경기도 가평군 가평읍 달전리</td>\n",
       "      <td>37.815752</td>\n",
       "      <td>127.527947</td>\n",
       "      <td>경기 가평군 가평읍 달전리 30</td>\n",
       "      <td>201912</td>\n",
       "      <td>104.114418</td>\n",
       "      <td>1</td>\n",
       "      <td>NaN</td>\n",
       "    </tr>\n",
       "    <tr>\n",
       "      <th>4</th>\n",
       "      <td>경기도 가평군 가평읍 대곡리</td>\n",
       "      <td>37.817992</td>\n",
       "      <td>127.518641</td>\n",
       "      <td>경기 가평군 가평읍 대곡리 683</td>\n",
       "      <td>201902</td>\n",
       "      <td>115.246225</td>\n",
       "      <td>1</td>\n",
       "      <td>NaN</td>\n",
       "    </tr>\n",
       "  </tbody>\n",
       "</table>\n",
       "</div>"
      ],
      "text/plain": [
       "              srch          y           x             address    계약년월  \\\n",
       "0  경기도 가평군 가평읍 금대리  37.770261  127.517540      경기 가평군 가평읍 금대리  201905   \n",
       "1  경기도 가평군 가평읍 금대리  37.770261  127.517540      경기 가평군 가평읍 금대리  201906   \n",
       "2  경기도 가평군 가평읍 금대리  37.770261  127.517540      경기 가평군 가평읍 금대리  201911   \n",
       "3  경기도 가평군 가평읍 달전리  37.815752  127.527947   경기 가평군 가평읍 달전리 30  201912   \n",
       "4  경기도 가평군 가평읍 대곡리  37.817992  127.518641  경기 가평군 가평읍 대곡리 683  201902   \n",
       "\n",
       "         mean  count        std  \n",
       "0   22.482099      1        NaN  \n",
       "1   33.031609      2   9.014934  \n",
       "2   30.207052      2  10.185328  \n",
       "3  104.114418      1        NaN  \n",
       "4  115.246225      1        NaN  "
      ]
     },
     "execution_count": 30,
     "metadata": {},
     "output_type": "execute_result"
    }
   ],
   "source": [
    "df.head()"
   ]
  },
  {
   "cell_type": "code",
   "execution_count": 14,
   "metadata": {},
   "outputs": [
    {
     "data": {
      "text/plain": [
       "'temp-plot.html'"
      ]
     },
     "execution_count": 14,
     "metadata": {},
     "output_type": "execute_result"
    }
   ],
   "source": [
    "px.set_mapbox_access_token(\"pk.eyJ1IjoidGl2bWU3IiwiYSI6ImNrMWEwZDVtNDI4Zm4zYm1vY3o3Z25zejEifQ._yTPkj3nXTzor72zIevLCQ\")\n",
    "fig = px.scatter_mapbox(df, lat=\"y\", lon=\"x\", size=\"mean\", color = \"mean\", hover_name=\"srch\",\n",
    "                      color_continuous_scale=px.colors.diverging.Portland, size_max=30, zoom=3,animation_frame=\"계약년월\")\n",
    "fig.update_layout(autosize=True,width=1500,height=750)\n",
    "    #                           ,margin=go.layout.Margin(l=50,r=50,b=100,t=100,pad=4))\n",
    "py.offline.plot(fig)"
   ]
  },
  {
   "cell_type": "code",
   "execution_count": null,
   "metadata": {},
   "outputs": [],
   "source": []
  }
 ],
 "metadata": {
  "kernelspec": {
   "display_name": "Python 3",
   "language": "python",
   "name": "python3"
  },
  "language_info": {
   "codemirror_mode": {
    "name": "ipython",
    "version": 3
   },
   "file_extension": ".py",
   "mimetype": "text/x-python",
   "name": "python",
   "nbconvert_exporter": "python",
   "pygments_lexer": "ipython3",
   "version": "3.7.3"
  }
 },
 "nbformat": 4,
 "nbformat_minor": 4
}
