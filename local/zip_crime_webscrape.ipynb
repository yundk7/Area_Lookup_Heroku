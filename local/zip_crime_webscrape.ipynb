{
 "cells": [
  {
   "cell_type": "code",
   "execution_count": 11,
   "metadata": {},
   "outputs": [],
   "source": [
    "import requests\n",
    "import json\n",
    "import math\n",
    "from bs4 import BeautifulSoup as bs\n",
    "import re\n",
    "import numpy as np\n",
    "import pandas as pd"
   ]
  },
  {
   "cell_type": "code",
   "execution_count": 12,
   "metadata": {},
   "outputs": [],
   "source": [
    "from flask_sqlalchemy import *#SQLAlchemy\n",
    "from sqlalchemy import create_engine\n",
    "import sqlite3\n",
    "\n",
    "# #Connecting to sqlite\n",
    "# conn = sqlite3.connect('zip_data.sqlite')\n",
    "\n",
    "# #Creating a cursor object using the cursor() method\n",
    "# cursor = conn.cursor()\n",
    "\n",
    "# #Doping EMPLOYEE table if already exists\n",
    "# cursor.execute(\"DROP TABLE crime\")\n",
    "# print(\"Table dropped... \")\n",
    "\n",
    "# #Commit your changes in the database\n",
    "# conn.commit()\n",
    "\n",
    "# #Closing the connection\n",
    "# conn.close()"
   ]
  },
  {
   "cell_type": "code",
   "execution_count": 12,
   "metadata": {},
   "outputs": [],
   "source": [
    "df = pd.read_html(\"http://www.structnet.com/instructions/zip_min_max_by_state.html\")[0]"
   ]
  },
  {
   "cell_type": "code",
   "execution_count": 19,
   "metadata": {},
   "outputs": [
    {
     "data": {
      "text/html": [
       "<div>\n",
       "<style scoped>\n",
       "    .dataframe tbody tr th:only-of-type {\n",
       "        vertical-align: middle;\n",
       "    }\n",
       "\n",
       "    .dataframe tbody tr th {\n",
       "        vertical-align: top;\n",
       "    }\n",
       "\n",
       "    .dataframe thead th {\n",
       "        text-align: right;\n",
       "    }\n",
       "</style>\n",
       "<table border=\"1\" class=\"dataframe\">\n",
       "  <thead>\n",
       "    <tr style=\"text-align: right;\">\n",
       "      <th></th>\n",
       "      <th>ID</th>\n",
       "      <th>State Name</th>\n",
       "      <th>ST</th>\n",
       "      <th>Zip Min</th>\n",
       "      <th>Zip Max</th>\n",
       "    </tr>\n",
       "  </thead>\n",
       "  <tbody>\n",
       "    <tr>\n",
       "      <th>53</th>\n",
       "      <td>44</td>\n",
       "      <td>Puerto Rico</td>\n",
       "      <td>PR</td>\n",
       "      <td>0</td>\n",
       "      <td>0</td>\n",
       "    </tr>\n",
       "    <tr>\n",
       "      <th>26</th>\n",
       "      <td>26</td>\n",
       "      <td>Massachusetts</td>\n",
       "      <td>MA</td>\n",
       "      <td>1001</td>\n",
       "      <td>2791</td>\n",
       "    </tr>\n",
       "    <tr>\n",
       "      <th>54</th>\n",
       "      <td>45</td>\n",
       "      <td>Rhode Island</td>\n",
       "      <td>RI</td>\n",
       "      <td>2801</td>\n",
       "      <td>2940</td>\n",
       "    </tr>\n",
       "    <tr>\n",
       "      <th>42</th>\n",
       "      <td>34</td>\n",
       "      <td>New Hampshire</td>\n",
       "      <td>NH</td>\n",
       "      <td>3031</td>\n",
       "      <td>3897</td>\n",
       "    </tr>\n",
       "    <tr>\n",
       "      <th>31</th>\n",
       "      <td>24</td>\n",
       "      <td>Maine</td>\n",
       "      <td>ME</td>\n",
       "      <td>3901</td>\n",
       "      <td>4992</td>\n",
       "    </tr>\n",
       "  </tbody>\n",
       "</table>\n",
       "</div>"
      ],
      "text/plain": [
       "    ID     State Name  ST  Zip Min  Zip Max\n",
       "53  44    Puerto Rico  PR        0        0\n",
       "26  26  Massachusetts  MA     1001     2791\n",
       "54  45   Rhode Island  RI     2801     2940\n",
       "42  34  New Hampshire  NH     3031     3897\n",
       "31  24          Maine  ME     3901     4992"
      ]
     },
     "execution_count": 19,
     "metadata": {},
     "output_type": "execute_result"
    }
   ],
   "source": [
    "df.sort_values(\"Zip Min\").head()"
   ]
  },
  {
   "cell_type": "code",
   "execution_count": 18,
   "metadata": {},
   "outputs": [
    {
     "data": {
      "text/html": [
       "<div>\n",
       "<style scoped>\n",
       "    .dataframe tbody tr th:only-of-type {\n",
       "        vertical-align: middle;\n",
       "    }\n",
       "\n",
       "    .dataframe tbody tr th {\n",
       "        vertical-align: top;\n",
       "    }\n",
       "\n",
       "    .dataframe thead th {\n",
       "        text-align: right;\n",
       "    }\n",
       "</style>\n",
       "<table border=\"1\" class=\"dataframe\">\n",
       "  <thead>\n",
       "    <tr style=\"text-align: right;\">\n",
       "      <th></th>\n",
       "      <th>ID</th>\n",
       "      <th>State Name</th>\n",
       "      <th>ST</th>\n",
       "      <th>Zip Min</th>\n",
       "      <th>Zip Max</th>\n",
       "    </tr>\n",
       "  </thead>\n",
       "  <tbody>\n",
       "    <tr>\n",
       "      <th>0</th>\n",
       "      <td>6</td>\n",
       "      <td>Alaska</td>\n",
       "      <td>AK</td>\n",
       "      <td>99501</td>\n",
       "      <td>99950</td>\n",
       "    </tr>\n",
       "    <tr>\n",
       "      <th>69</th>\n",
       "      <td>53</td>\n",
       "      <td>Washington</td>\n",
       "      <td>WA</td>\n",
       "      <td>98001</td>\n",
       "      <td>99403</td>\n",
       "    </tr>\n",
       "    <tr>\n",
       "      <th>51</th>\n",
       "      <td>42</td>\n",
       "      <td>Oregon</td>\n",
       "      <td>OR</td>\n",
       "      <td>97001</td>\n",
       "      <td>97920</td>\n",
       "    </tr>\n",
       "    <tr>\n",
       "      <th>16</th>\n",
       "      <td>16</td>\n",
       "      <td>Hawaii</td>\n",
       "      <td>HI</td>\n",
       "      <td>96701</td>\n",
       "      <td>96898</td>\n",
       "    </tr>\n",
       "    <tr>\n",
       "      <th>5</th>\n",
       "      <td>9</td>\n",
       "      <td>California</td>\n",
       "      <td>CA</td>\n",
       "      <td>90001</td>\n",
       "      <td>96162</td>\n",
       "    </tr>\n",
       "  </tbody>\n",
       "</table>\n",
       "</div>"
      ],
      "text/plain": [
       "    ID  State Name  ST  Zip Min  Zip Max\n",
       "0    6      Alaska  AK    99501    99950\n",
       "69  53  Washington  WA    98001    99403\n",
       "51  42      Oregon  OR    97001    97920\n",
       "16  16      Hawaii  HI    96701    96898\n",
       "5    9  California  CA    90001    96162"
      ]
     },
     "execution_count": 18,
     "metadata": {},
     "output_type": "execute_result"
    }
   ],
   "source": [
    "df.sort_values(\"Zip Max\",ascending=False).head()\n",
    "#1001 ~ 99950"
   ]
  },
  {
   "cell_type": "code",
   "execution_count": 7,
   "metadata": {},
   "outputs": [
    {
     "data": {
      "text/plain": [
       "42438"
      ]
     },
     "execution_count": 7,
     "metadata": {},
     "output_type": "execute_result"
    }
   ],
   "source": [
    "#zip range from 1001 to 99950\n",
    "# zips = []\n",
    "# for n in range(1001,99950+1):\n",
    "#     n = str(n).zfill(5)\n",
    "#     zips.append(n)\n",
    "# allnum = len(zips)\n",
    "\n",
    "# zips = pd.read_csv(\"zip_code_city.csv\",dtype={'Zip': str})\n",
    "# zips = list(zips[\"Zip\"])\n",
    "# len(zips)"
   ]
  },
  {
   "cell_type": "code",
   "execution_count": 19,
   "metadata": {},
   "outputs": [],
   "source": [
    "con = create_engine(\"sqlite:///zip_data0.sqlite\")"
   ]
  },
  {
   "cell_type": "code",
   "execution_count": 20,
   "metadata": {},
   "outputs": [],
   "source": [
    "df = pd.read_sql(\"crime\",con)"
   ]
  },
  {
   "cell_type": "code",
   "execution_count": 21,
   "metadata": {},
   "outputs": [],
   "source": [
    "#this is to be prepared when webscraping failed or stopped\n",
    "\n",
    "#referring to zipcodes in density data\n",
    "con0 = create_engine(\"sqlite:///zip_data0.sqlite\")\n",
    "ref = pd.read_sql(\"area\",con0)\n",
    "ref = ref[ref[\"zip\"].astype(int)>=1000]\n",
    "ref = list(ref[\"zip\"])\n",
    "ref = pd.DataFrame({\"zip\":ref})\n",
    "\n",
    "#to get zip codes already in database\n",
    "exist = pd.read_sql(\"crime\",con)\n",
    "exist = list(exist[\"zip\"])\n",
    "#zips already in database will have exist value of 1, if not NaN\n",
    "exist = pd.DataFrame({\"zip\":exist,\"exist\":1})\n",
    "\n",
    "#merge on reference dataframe\n",
    "zips_srch = pd.merge(ref,exist,on=\"zip\",how=\"left\")\n",
    "#excluding rows where exist = 1\n",
    "zips_srch = zips_srch[zips_srch[\"exist\"].isnull()]\n",
    "zips = list(zips_srch[\"zip\"])"
   ]
  },
  {
   "cell_type": "code",
   "execution_count": 13,
   "metadata": {},
   "outputs": [],
   "source": [
    "for z in zips:\n",
    "    url = f'https://www.bestplaces.net/crime/zip-code/state/city/{z}'\n",
    "    response = requests.get(url)\n",
    "\n",
    "    # Create a Beautiful Soup object\n",
    "    soup = bs(response.text, 'html.parser')\n",
    "\n",
    "    # Print all divs with col-md-12\n",
    "    divs = soup.find_all(\"div\", {\"class\": \"col-md-12\"})\n",
    "    try:\n",
    "        s = str(divs[1]).split(\"violent crime is \")[1]\n",
    "        result = float(re.findall(r\"[-+]?\\d*\\.\\d+|\\d+\", s)[0])\n",
    "    except IndexError:\n",
    "        result = np.nan\n",
    "    vcr = result\n",
    "    try:\n",
    "        s = str(divs[1]).split(\"property crime is \")[1]\n",
    "        result = float(re.findall(r\"[-+]?\\d*\\.\\d+|\\d+\", s)[0])\n",
    "    except IndexError:\n",
    "        result = np.nan\n",
    "    pcr = result\n",
    "    apnd = pd.DataFrame({\"zip\":[z],\n",
    "                        \"violent crime\": [vcr],\n",
    "                        \"property crime\": [pcr]})\n",
    "    #appends directly to database\n",
    "    apnd.to_sql(\"crime\",con,if_exists=\"append\",index=False)"
   ]
  },
  {
   "cell_type": "code",
   "execution_count": 31,
   "metadata": {},
   "outputs": [],
   "source": [
    "crime =  pd.read_sql(\"crime\",con)"
   ]
  },
  {
   "cell_type": "code",
   "execution_count": 26,
   "metadata": {},
   "outputs": [],
   "source": [
    "crime.drop(columns = [\"index\"],inplace=True)"
   ]
  },
  {
   "cell_type": "code",
   "execution_count": 30,
   "metadata": {},
   "outputs": [],
   "source": [
    "crime.to_sql(\"crime\",con,if_exists=\"replace\",index=False)"
   ]
  },
  {
   "cell_type": "code",
   "execution_count": 33,
   "metadata": {},
   "outputs": [],
   "source": [
    "crime.to_csv(\"zip_crime.csv\",index=False)"
   ]
  },
  {
   "cell_type": "code",
   "execution_count": null,
   "metadata": {},
   "outputs": [],
   "source": []
  }
 ],
 "metadata": {
  "kernelspec": {
   "display_name": "Python 3",
   "language": "python",
   "name": "python3"
  },
  "language_info": {
   "codemirror_mode": {
    "name": "ipython",
    "version": 3
   },
   "file_extension": ".py",
   "mimetype": "text/x-python",
   "name": "python",
   "nbconvert_exporter": "python",
   "pygments_lexer": "ipython3",
   "version": "3.7.3"
  }
 },
 "nbformat": 4,
 "nbformat_minor": 4
}
