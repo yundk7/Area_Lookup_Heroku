{
 "cells": [
  {
   "cell_type": "code",
   "execution_count": 16,
   "metadata": {},
   "outputs": [],
   "source": [
    "import pandas as pd\n",
    "import requests\n",
    "import json"
   ]
  },
  {
   "cell_type": "code",
   "execution_count": 17,
   "metadata": {},
   "outputs": [
    {
     "data": {
      "text/html": [
       "        <script type=\"text/javascript\">\n",
       "        window.PlotlyConfig = {MathJaxConfig: 'local'};\n",
       "        if (window.MathJax) {MathJax.Hub.Config({SVG: {font: \"STIX-Web\"}});}\n",
       "        if (typeof require !== 'undefined') {\n",
       "        require.undef(\"plotly\");\n",
       "        requirejs.config({\n",
       "            paths: {\n",
       "                'plotly': ['https://cdn.plot.ly/plotly-latest.min']\n",
       "            }\n",
       "        });\n",
       "        require(['plotly'], function(Plotly) {\n",
       "            window._Plotly = Plotly;\n",
       "        });\n",
       "        }\n",
       "        </script>\n",
       "        "
      ]
     },
     "metadata": {},
     "output_type": "display_data"
    }
   ],
   "source": [
    "import plotly as py\n",
    "import plotly.graph_objs as go\n",
    "import plotly.express as px\n",
    "py.offline.init_notebook_mode(connected = True)"
   ]
  },
  {
   "cell_type": "code",
   "execution_count": 38,
   "metadata": {},
   "outputs": [],
   "source": [
    "commercial = pd.read_csv(\"상업업무용(매매)__실거래가_20200110101441.csv\",skiprows=15,encoding=\"euc_kr\")\n",
    "commercial[\"면적당금액\"] = commercial[\"거래금액(만원)\"].str.replace(\",\",\"\").astype(float)/commercial[\"전용/연면적(㎡)\"].astype(float)\n",
    "commercial[\"평당금액\"] = commercial[\"면적당금액\"]*.3025\n",
    "commercial[\"주소\"] = commercial[\"시군구\"] + \" \" + commercial[\"도로명\"]\n",
    "adrs=commercial[\"주소\"].unique()"
   ]
  },
  {
   "cell_type": "code",
   "execution_count": 33,
   "metadata": {},
   "outputs": [],
   "source": [
    "commercial = commercial.pivot_table(index = [\"주소\",\"계약년월\"],values=[\"평당금액\"],aggfunc=[\"mean\",\"count\",\"std\"])"
   ]
  },
  {
   "cell_type": "code",
   "execution_count": 34,
   "metadata": {},
   "outputs": [
    {
     "data": {
      "text/plain": [
       "5064"
      ]
     },
     "execution_count": 34,
     "metadata": {},
     "output_type": "execute_result"
    }
   ],
   "source": [
    "len(adrs)"
   ]
  },
  {
   "cell_type": "code",
   "execution_count": 40,
   "metadata": {},
   "outputs": [
    {
     "data": {
      "text/plain": [
       "0                 -\n",
       "1                 -\n",
       "2                 -\n",
       "3                 -\n",
       "4                 -\n",
       "5             북한강변로\n",
       "6              새말옛로\n",
       "7               문화로\n",
       "8             오리나무길\n",
       "9               석봉로\n",
       "10       태봉두밀로406번길\n",
       "11              경춘로\n",
       "12              경춘로\n",
       "13              경춘로\n",
       "14              가화로\n",
       "15              옥골길\n",
       "16              호반로\n",
       "17              호반로\n",
       "18              호반로\n",
       "19              호반로\n",
       "20              호반로\n",
       "21             태봉안길\n",
       "22              가화로\n",
       "23         화악산로11번길\n",
       "24         백둔로467번길\n",
       "25              청군로\n",
       "26              청군로\n",
       "27              청군로\n",
       "28              청군로\n",
       "29              청군로\n",
       "            ...    \n",
       "17973           향남로\n",
       "17974           향남로\n",
       "17975           발안로\n",
       "17976       행정죽전로1길\n",
       "17977        행정중앙2로\n",
       "17978        행정중앙1로\n",
       "17979           발안로\n",
       "17980        행정서로3길\n",
       "17981        행정서로3길\n",
       "17982        행정중앙2로\n",
       "17983        행정중앙2로\n",
       "17984       행정죽전로2길\n",
       "17985        행정중앙2로\n",
       "17986        행정중앙2로\n",
       "17987        행정중앙2로\n",
       "17988        행정중앙2로\n",
       "17989        행정중앙2로\n",
       "17990       행정죽전로2길\n",
       "17991          행정동로\n",
       "17992          행정동로\n",
       "17993        행정서로3길\n",
       "17994        행정중앙2로\n",
       "17995        행정서로2길\n",
       "17996           서봉로\n",
       "17997           서봉로\n",
       "17998           서봉로\n",
       "17999           서봉로\n",
       "18000           서봉로\n",
       "18001           서봉로\n",
       "18002           서봉로\n",
       "Name: 도로명, Length: 18003, dtype: object"
      ]
     },
     "execution_count": 40,
     "metadata": {},
     "output_type": "execute_result"
    }
   ],
   "source": [
    "commercial[\"도로명\"]"
   ]
  },
  {
   "cell_type": "code",
   "execution_count": 35,
   "metadata": {},
   "outputs": [
    {
     "ename": "IndexError",
     "evalue": "list index out of range",
     "output_type": "error",
     "traceback": [
      "\u001b[1;31m---------------------------------------------------------------------------\u001b[0m",
      "\u001b[1;31mIndexError\u001b[0m                                Traceback (most recent call last)",
      "\u001b[1;32m<ipython-input-35-bb99196b0799>\u001b[0m in \u001b[0;36m<module>\u001b[1;34m\u001b[0m\n\u001b[0;32m      6\u001b[0m         \u001b[0mresult\u001b[0m \u001b[1;33m=\u001b[0m \u001b[0mjson\u001b[0m\u001b[1;33m.\u001b[0m\u001b[0mloads\u001b[0m\u001b[1;33m(\u001b[0m\u001b[0mstr\u001b[0m\u001b[1;33m(\u001b[0m\u001b[0mrequests\u001b[0m\u001b[1;33m.\u001b[0m\u001b[0mget\u001b[0m\u001b[1;33m(\u001b[0m\u001b[0murl\u001b[0m\u001b[1;33m,\u001b[0m\u001b[0mheaders\u001b[0m\u001b[1;33m=\u001b[0m\u001b[0mheaders\u001b[0m\u001b[1;33m)\u001b[0m\u001b[1;33m.\u001b[0m\u001b[0mtext\u001b[0m\u001b[1;33m)\u001b[0m\u001b[1;33m)\u001b[0m\u001b[1;33m\u001b[0m\u001b[1;33m\u001b[0m\u001b[0m\n\u001b[0;32m      7\u001b[0m         \u001b[1;31m#     return result\u001b[0m\u001b[1;33m\u001b[0m\u001b[1;33m\u001b[0m\u001b[1;33m\u001b[0m\u001b[0m\n\u001b[1;32m----> 8\u001b[1;33m         \u001b[0mmatch_first\u001b[0m \u001b[1;33m=\u001b[0m \u001b[0mresult\u001b[0m\u001b[1;33m[\u001b[0m\u001b[1;34m'documents'\u001b[0m\u001b[1;33m]\u001b[0m\u001b[1;33m[\u001b[0m\u001b[1;36m0\u001b[0m\u001b[1;33m]\u001b[0m\u001b[1;33m\u001b[0m\u001b[1;33m\u001b[0m\u001b[0m\n\u001b[0m\u001b[0;32m      9\u001b[0m         \u001b[0mapnd\u001b[0m \u001b[1;33m=\u001b[0m \u001b[0mpd\u001b[0m\u001b[1;33m.\u001b[0m\u001b[0mDataFrame\u001b[0m\u001b[1;33m(\u001b[0m\u001b[1;33m)\u001b[0m\u001b[1;33m\u001b[0m\u001b[1;33m\u001b[0m\u001b[0m\n\u001b[0;32m     10\u001b[0m         \u001b[0mapnd\u001b[0m\u001b[1;33m[\u001b[0m\u001b[1;34m\"srch\"\u001b[0m\u001b[1;33m]\u001b[0m \u001b[1;33m=\u001b[0m \u001b[1;33m[\u001b[0m\u001b[0madr\u001b[0m\u001b[1;33m]\u001b[0m\u001b[1;33m\u001b[0m\u001b[1;33m\u001b[0m\u001b[0m\n",
      "\u001b[1;31mIndexError\u001b[0m: list index out of range"
     ]
    }
   ],
   "source": [
    "geocodes = pd.DataFrame()\n",
    "n = 0\n",
    "for adr in adrs:\n",
    "        url = 'https://dapi.kakao.com/v2/local/search/keyword.json?query='+adr\n",
    "        headers = {\"Authorization\": \"KakaoAK 8809fcb48aa9900788adbd9f162c6b25\"}\n",
    "        result = json.loads(str(requests.get(url,headers=headers).text))\n",
    "        #     return result\n",
    "        try:\n",
    "            match_first = result['documents'][0]\n",
    "            apnd = pd.DataFrame()\n",
    "            apnd[\"srch\"] = [adr]\n",
    "            apnd[\"y\"] = [match_first['y']]\n",
    "            apnd[\"x\"] = [match_first['x']]\n",
    "            apnd[\"address\"] = [match_first[\"address_name\"]]\n",
    "            geocodes = geocodes.append(apnd)\n",
    "        except IndexError:\n",
    "            print(\"result 0\")"
   ]
  },
  {
   "cell_type": "code",
   "execution_count": 178,
   "metadata": {},
   "outputs": [],
   "source": [
    "# geocodes.to_csv(\"geocodes_kr_dong.csv\",index=False,encoding=\"euc_kr\")\n",
    "# geocodes.to_csv(\"geocodes_kr_dong(경기).csv\",index=False,encoding=\"euc_kr\")"
   ]
  },
  {
   "cell_type": "code",
   "execution_count": 22,
   "metadata": {},
   "outputs": [],
   "source": [
    "geocodes = pd.read_csv(\"geocodes_kr_dong(경기).csv\",encoding=\"euc_kr\")"
   ]
  },
  {
   "cell_type": "code",
   "execution_count": 23,
   "metadata": {},
   "outputs": [],
   "source": [
    "commercial.reset_index(inplace = True)"
   ]
  },
  {
   "cell_type": "code",
   "execution_count": 24,
   "metadata": {},
   "outputs": [],
   "source": [
    "commercial.rename(columns={\"시군구\":\"srch\"},inplace = True)"
   ]
  },
  {
   "cell_type": "code",
   "execution_count": 25,
   "metadata": {},
   "outputs": [],
   "source": [
    "df = pd.merge(geocodes,commercial,on=\"srch\")"
   ]
  },
  {
   "cell_type": "code",
   "execution_count": 26,
   "metadata": {},
   "outputs": [],
   "source": [
    "df.columns = [\"srch\",\"y\",\"x\",\"address\",\"계약년월\",\"mean\",\"count\",\"std\"]"
   ]
  },
  {
   "cell_type": "code",
   "execution_count": 27,
   "metadata": {},
   "outputs": [],
   "source": [
    "df[\"x\"] = df[\"x\"].astype(float)\n",
    "df[\"y\"] = df[\"y\"].astype(float)"
   ]
  },
  {
   "cell_type": "code",
   "execution_count": 30,
   "metadata": {},
   "outputs": [
    {
     "data": {
      "text/html": [
       "<div>\n",
       "<style scoped>\n",
       "    .dataframe tbody tr th:only-of-type {\n",
       "        vertical-align: middle;\n",
       "    }\n",
       "\n",
       "    .dataframe tbody tr th {\n",
       "        vertical-align: top;\n",
       "    }\n",
       "\n",
       "    .dataframe thead th {\n",
       "        text-align: right;\n",
       "    }\n",
       "</style>\n",
       "<table border=\"1\" class=\"dataframe\">\n",
       "  <thead>\n",
       "    <tr style=\"text-align: right;\">\n",
       "      <th></th>\n",
       "      <th>srch</th>\n",
       "      <th>y</th>\n",
       "      <th>x</th>\n",
       "      <th>address</th>\n",
       "      <th>계약년월</th>\n",
       "      <th>mean</th>\n",
       "      <th>count</th>\n",
       "      <th>std</th>\n",
       "    </tr>\n",
       "  </thead>\n",
       "  <tbody>\n",
       "    <tr>\n",
       "      <th>0</th>\n",
       "      <td>경기도 가평군 가평읍 금대리</td>\n",
       "      <td>37.770261</td>\n",
       "      <td>127.517540</td>\n",
       "      <td>경기 가평군 가평읍 금대리</td>\n",
       "      <td>201905</td>\n",
       "      <td>22.482099</td>\n",
       "      <td>1</td>\n",
       "      <td>NaN</td>\n",
       "    </tr>\n",
       "    <tr>\n",
       "      <th>1</th>\n",
       "      <td>경기도 가평군 가평읍 금대리</td>\n",
       "      <td>37.770261</td>\n",
       "      <td>127.517540</td>\n",
       "      <td>경기 가평군 가평읍 금대리</td>\n",
       "      <td>201906</td>\n",
       "      <td>33.031609</td>\n",
       "      <td>2</td>\n",
       "      <td>9.014934</td>\n",
       "    </tr>\n",
       "    <tr>\n",
       "      <th>2</th>\n",
       "      <td>경기도 가평군 가평읍 금대리</td>\n",
       "      <td>37.770261</td>\n",
       "      <td>127.517540</td>\n",
       "      <td>경기 가평군 가평읍 금대리</td>\n",
       "      <td>201911</td>\n",
       "      <td>30.207052</td>\n",
       "      <td>2</td>\n",
       "      <td>10.185328</td>\n",
       "    </tr>\n",
       "    <tr>\n",
       "      <th>3</th>\n",
       "      <td>경기도 가평군 가평읍 달전리</td>\n",
       "      <td>37.815752</td>\n",
       "      <td>127.527947</td>\n",
       "      <td>경기 가평군 가평읍 달전리 30</td>\n",
       "      <td>201912</td>\n",
       "      <td>104.114418</td>\n",
       "      <td>1</td>\n",
       "      <td>NaN</td>\n",
       "    </tr>\n",
       "    <tr>\n",
       "      <th>4</th>\n",
       "      <td>경기도 가평군 가평읍 대곡리</td>\n",
       "      <td>37.817992</td>\n",
       "      <td>127.518641</td>\n",
       "      <td>경기 가평군 가평읍 대곡리 683</td>\n",
       "      <td>201902</td>\n",
       "      <td>115.246225</td>\n",
       "      <td>1</td>\n",
       "      <td>NaN</td>\n",
       "    </tr>\n",
       "  </tbody>\n",
       "</table>\n",
       "</div>"
      ],
      "text/plain": [
       "              srch          y           x             address    계약년월  \\\n",
       "0  경기도 가평군 가평읍 금대리  37.770261  127.517540      경기 가평군 가평읍 금대리  201905   \n",
       "1  경기도 가평군 가평읍 금대리  37.770261  127.517540      경기 가평군 가평읍 금대리  201906   \n",
       "2  경기도 가평군 가평읍 금대리  37.770261  127.517540      경기 가평군 가평읍 금대리  201911   \n",
       "3  경기도 가평군 가평읍 달전리  37.815752  127.527947   경기 가평군 가평읍 달전리 30  201912   \n",
       "4  경기도 가평군 가평읍 대곡리  37.817992  127.518641  경기 가평군 가평읍 대곡리 683  201902   \n",
       "\n",
       "         mean  count        std  \n",
       "0   22.482099      1        NaN  \n",
       "1   33.031609      2   9.014934  \n",
       "2   30.207052      2  10.185328  \n",
       "3  104.114418      1        NaN  \n",
       "4  115.246225      1        NaN  "
      ]
     },
     "execution_count": 30,
     "metadata": {},
     "output_type": "execute_result"
    }
   ],
   "source": [
    "df.head()"
   ]
  },
  {
   "cell_type": "code",
   "execution_count": 41,
   "metadata": {},
   "outputs": [
    {
     "data": {
      "text/plain": [
       "'temp-plot.html'"
      ]
     },
     "execution_count": 41,
     "metadata": {},
     "output_type": "execute_result"
    }
   ],
   "source": [
    "px.set_mapbox_access_token(\"pk.eyJ1IjoidGl2bWU3IiwiYSI6ImNrMWEwZDVtNDI4Zm4zYm1vY3o3Z25zejEifQ._yTPkj3nXTzor72zIevLCQ\")\n",
    "fig = px.scatter_mapbox(df, lat=\"y\", lon=\"x\", size=\"mean\", color = \"mean\", hover_name=\"srch\",\n",
    "                      color_continuous_scale=px.colors.diverging.Portland, size_max=30, zoom=3,animation_frame=\"계약년월\")\n",
    "fig.update_layout(autosize=True,width=1500,height=750)\n",
    "    #                           ,margin=go.layout.Margin(l=50,r=50,b=100,t=100,pad=4))\n",
    "py.offline.plot(fig)"
   ]
  },
  {
   "cell_type": "code",
   "execution_count": null,
   "metadata": {},
   "outputs": [],
   "source": []
  }
 ],
 "metadata": {
  "kernelspec": {
   "display_name": "Python 3",
   "language": "python",
   "name": "python3"
  },
  "language_info": {
   "codemirror_mode": {
    "name": "ipython",
    "version": 3
   },
   "file_extension": ".py",
   "mimetype": "text/x-python",
   "name": "python",
   "nbconvert_exporter": "python",
   "pygments_lexer": "ipython3",
   "version": "3.7.3"
  }
 },
 "nbformat": 4,
 "nbformat_minor": 4
}
