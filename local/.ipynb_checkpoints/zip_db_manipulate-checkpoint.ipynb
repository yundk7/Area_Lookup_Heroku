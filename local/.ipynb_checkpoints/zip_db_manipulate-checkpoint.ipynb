{
 "cells": [
  {
   "cell_type": "code",
   "execution_count": 29,
   "metadata": {},
   "outputs": [],
   "source": [
    "import pandas as pd\n",
    "from sqlalchemy import create_engine"
   ]
  },
  {
   "cell_type": "code",
   "execution_count": 2,
   "metadata": {},
   "outputs": [],
   "source": [
    "# df = pd.read_html(\"http://www.structnet.com/instructions/zip_min_max_by_state.html\")[0]\n",
    "\n",
    "# df = df[[\"ST\",\"Zip Min\",\"Zip Max\"]]\n",
    "\n",
    "# df.columns = [\"State\",\"Zip Min\",\"Zip Max\"]\n",
    "# df"
   ]
  },
  {
   "cell_type": "code",
   "execution_count": 25,
   "metadata": {},
   "outputs": [],
   "source": [
    "# setting dtype for zipcodes as string to keep the leading zeros\n",
    "df = pd.read_csv(\"zip_code_database.csv\",dtype={\"zip\":\"str\"})"
   ]
  },
  {
   "cell_type": "code",
   "execution_count": 27,
   "metadata": {},
   "outputs": [],
   "source": [
    "df = df[[\"zip\",\"primary_city\",\"state\",\"latitude\",\"longitude\"]]\n",
    "df.columns = [\"Zip\",\"City\",\"State\",\"lat\",\"lon\"]\n",
    "# df[\"Zip\"] = df[\"Zip\"].astype(str).str.zfill(5)"
   ]
  },
  {
   "cell_type": "code",
   "execution_count": 33,
   "metadata": {},
   "outputs": [],
   "source": [
    "#saving in db as well as in csv\n",
    "con = create_engine(\"sqlite:///zip_data0.sqlite\")\n",
    "df.to_sql(\"city\",con,if_exists=\"replace\",index=False)\n",
    "df.to_csv(\"zip_code_city.csv\",index=False)"
   ]
  },
  {
   "cell_type": "code",
   "execution_count": null,
   "metadata": {},
   "outputs": [],
   "source": []
  }
 ],
 "metadata": {
  "kernelspec": {
   "display_name": "Python 3",
   "language": "python",
   "name": "python3"
  },
  "language_info": {
   "codemirror_mode": {
    "name": "ipython",
    "version": 3
   },
   "file_extension": ".py",
   "mimetype": "text/x-python",
   "name": "python",
   "nbconvert_exporter": "python",
   "pygments_lexer": "ipython3",
   "version": "3.7.3"
  }
 },
 "nbformat": 4,
 "nbformat_minor": 4
}
